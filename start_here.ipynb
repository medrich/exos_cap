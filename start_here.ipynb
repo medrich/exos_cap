{
 "cells": [
  {
   "cell_type": "code",
   "execution_count": 26,
   "metadata": {},
   "outputs": [
    {
     "name": "stdout",
     "output_type": "stream",
     "text": [
      "This notebook is essentially a pared down and re-organized version of all the (scratch) work found in milky_way_stuff.ipynb.\n",
      "Here you will find the data to recreate my project, as well as some functions to make the data preparation smoother.\n"
     ]
    }
   ],
   "source": [
    "print('This notebook is essentially a pared down and re-organized version of all the (scratch) work found in milky_way_stuff.ipynb.')\n",
    "print('Here you will find the data to recreate my project, as well as some functions to make the data preparation smoother.')"
   ]
  },
  {
   "cell_type": "code",
   "execution_count": 15,
   "metadata": {},
   "outputs": [],
   "source": [
    "# Imports\n",
    "\n",
    "import numpy as np\n",
    "import pandas as pd\n",
    "import matplotlib.pyplot as plt\n",
    "import scipy.stats as stats\n",
    "import seaborn as sb\n",
    "from wordcloud import WordCloud\n",
    "import itertools\n",
    "import astropy.coordinates as coord\n",
    "from astropy.io import ascii\n",
    "import astropy.units as u\n",
    "\n",
    "%matplotlib inline\n",
    "plt.style.use('ggplot')"
   ]
  },
  {
   "cell_type": "markdown",
   "metadata": {},
   "source": [
    "##### *Download data*\n",
    "\n",
    "##### Visit https://exoplanetarchive.ipac.caltech.edu/cgi-bin/TblView/nph-tblView?app=ExoTbls&config=PSCompPars to collect data\n",
    "\n"
   ]
  },
  {
   "cell_type": "code",
   "execution_count": 16,
   "metadata": {},
   "outputs": [],
   "source": [
    "# Read in data\n",
    "\n",
    "exos = pd.read_csv('data/PSCompPars_2021.07.12_12.50.05.csv')"
   ]
  },
  {
   "cell_type": "code",
   "execution_count": 17,
   "metadata": {},
   "outputs": [],
   "source": [
    "# Functions!"
   ]
  },
  {
   "cell_type": "code",
   "execution_count": 18,
   "metadata": {},
   "outputs": [],
   "source": [
    "def relevant_df_maker(df):\n",
    "    '''Generates a dataframe containing the user-specified columns. You must use the exact spelling and punctuation of \n",
    "    the desired column name(s). The function will initially print the first row of the original dataframe, as well as the column count, for your convenience.\n",
    "    \n",
    "    # Inputs:\n",
    "    df - a pandas dataframe\n",
    "    \n",
    "    # Outputs:\n",
    "    new_df - a pandas dataframe'''\n",
    "    \n",
    "    col_list = list(df)\n",
    "    print(\"\\n\".join(col_list))\n",
    "    print('There are ' + str(len(col_list)) +' columns in your original dataframe.')\n",
    "    \n",
    "    num_fields = int(input('How many fields would you like in your new dataframe? '))\n",
    "    \n",
    "    fields = []\n",
    "    \n",
    "    for i in range(num_fields):\n",
    "        field = input('Please type in the TABLE NAME of a column you would like to include in the new dataframe: ')\n",
    "        fields.append(field)\n",
    "        \n",
    "    new_df = df[fields]\n",
    "    \n",
    "    return new_df"
   ]
  },
  {
   "cell_type": "code",
   "execution_count": 19,
   "metadata": {},
   "outputs": [],
   "source": [
    "def metric_scatterplot_maker(data):\n",
    "    '''Generates a scatterplot of the specified x and why variables, in a user-defined color.\n",
    "    \n",
    "    # Inputs:\n",
    "    data - a pandas dataframe\n",
    "    \n",
    "    # Outputs:\n",
    "     None'''\n",
    "    \n",
    "    x_metric = input('Please enter the column name of the x-axis data:')\n",
    "    y_metric = input('Please enter the column name of the y-axis data:')\n",
    "    color_val = input('Please specify the color of the marker:').lower()\n",
    "    \n",
    "    fig=plt.gcf()\n",
    "    fig.set_size_inches(20,8)\n",
    "\n",
    "    ax = sb.scatterplot(x=data[x_metric],\n",
    "                        y=data[y_metric],\n",
    "                        data=data,\n",
    "                        color = color_val)\n",
    "\n",
    "    #specfiy axis labels\n",
    "    ax.set_xlabel(xlabel=x_metric, fontsize = 20)\n",
    "    ax.set_ylabel(ylabel=y_metric,fontsize = 20)\n",
    "    ax.set_title(label=f'Terrestrial Exoplanet {x_metric} vs. {y_metric}', fontsize=26)\n",
    "    ax.grid(False)"
   ]
  },
  {
   "cell_type": "code",
   "execution_count": 20,
   "metadata": {},
   "outputs": [],
   "source": [
    "def discmethod_dfcreator(df, discmethod):\n",
    "    '''Returns a dataframe consisting of the input discovery method and all the years it produced discoveries, summing cumulatively from year to year.\n",
    "    \n",
    "    # Inputs:\n",
    "    df - a pandas dataframe\n",
    "    discmethod - the name of a discovery method as it appears in the \"discoverymethod\" field of the original dataframe\n",
    "    \n",
    "    # Outputs:\n",
    "    new_df - a pandas dataframe'''\n",
    "    \n",
    "    \n",
    "    new_df = df.loc[(df['discoverymethod'] == discmethod)]\n",
    "    return new_df.groupby('disc_year').count().cumsum()"
   ]
  },
  {
   "cell_type": "code",
   "execution_count": 21,
   "metadata": {},
   "outputs": [],
   "source": [
    "def bootstrap_means(data, n_samples=10000):\n",
    "    '''A simple function to bootstrap data, if so desired.\n",
    "    \n",
    "    # Inputs:\n",
    "    data - a pandas dataframe\n",
    "    n_samples - int specifying the number of bootstrapped samples to create. Default is 10,000 bootstrap samples.\n",
    "    \n",
    "    # Outputs:\n",
    "    bootstrap_samples_mean - list of length n_samples containing the mean of each bootstrapped sample'''\n",
    "    \n",
    "    bootstrap_samples_mean = []\n",
    "    \n",
    "    for _ in range(n_samples):\n",
    "        bootstrap = np.random.choice(data, size=len(data), replace=True)\n",
    "        bootstrap_samples_mean.append(np.mean(boot))\n",
    "        \n",
    "    return bootstrap_samples_mean"
   ]
  },
  {
   "cell_type": "code",
   "execution_count": 22,
   "metadata": {},
   "outputs": [],
   "source": [
    "def metric_mean_distribution(data):\n",
    "    '''Generates a normal distribution curve with crimson lines indicating the left and right bounds for a confidence interval specified by the user.\n",
    "    The user must input a name for the metric being analyzed (to be used in the title of the chart), a confidence interval as a decimal, and the \n",
    "    display color of the distribution. If the relevant value for the Earth is known, those lines (referencing the variable \"earth\") may be un-commented \n",
    "    to add in the additional functionality of comparing exoplanet data to that of the Earth.\n",
    "    \n",
    "    # Inputs:\n",
    "    data - a pandas dataframe, INCLUDING the column name of the metric you wish to examine. Use the format data['column_name']\n",
    "    \n",
    "    # Outputs:\n",
    "    None returned, however the function will print the numeric values for mean, standard error, lower bound of the CI, and upper bound of the CI'''\n",
    "    \n",
    "    #establish the metric\n",
    "    metric = input('What metric are you seeking the mean of?').capitalize()\n",
    "    ci = float(input('What confidence interval do you seek? Please enter a percentage between 0 and 1.'))\n",
    "    #earth = float(input(\"What is Earth's mean value for this statistic?\"))\n",
    "    colour = input('What color shall this plot be?')\n",
    "    \n",
    "    l_bound = (1-ci)/2\n",
    "    u_bound = 1-l_bound\n",
    "    \n",
    "    metric_mean = np.mean(data)\n",
    "    metric_std = np.std(data)\n",
    "    metric_std_err = metric_std/np.sqrt(len(data))\n",
    "    \n",
    "    #confirm the metric and display the mean and standard error\n",
    "    print(f'For {metric}, the mean is {metric_mean} and the standard error is {metric_std_err}.')\n",
    "    \n",
    "    #create distribution and determine confidence interval\n",
    "    normal_metric = stats.norm(metric_mean,metric_std_err)\n",
    "    l_bound_ci = normal_metric.ppf(l_bound)\n",
    "    u_bound_ci = normal_metric.ppf(u_bound)\n",
    "    \n",
    "    print('The lower bound of the ' + str(ci*100) + f'% confidence interval is {l_bound_ci} and the upper bound is {u_bound_ci}')\n",
    "    \n",
    "    #plot it\n",
    "    fig, ax = plt.subplots(1,figsize=(20,12))\n",
    "\n",
    "    x = np.linspace(l_bound_ci-(l_bound_ci/8),u_bound_ci+(u_bound_ci/8),4500)\n",
    "    ax.plot(x, normal_metric.pdf(x), color=colour)\n",
    "    ax.axvline(l_bound_ci, ymin=0.045, color='crimson')\n",
    "    ax.axvline(u_bound_ci, ymin=0.045, color='crimson')\n",
    "    ax.fill_between(x,normal_metric.pdf(x), where=((x>=l_bound_ci)&(x<=u_bound_ci)), color=colour, alpha=0.5)\n",
    "    #ax.axvline(earth, color='teal')\n",
    "    ax.set_title(label=(f'Average Exoplanet {metric} w/ '+str(ci*100)+'% CI'), fontsize=20)"
   ]
  },
  {
   "cell_type": "code",
   "execution_count": 25,
   "metadata": {},
   "outputs": [
    {
     "name": "stdout",
     "output_type": "stream",
     "text": [
      "Thanks for starting here! Live long and prosper :)\n"
     ]
    }
   ],
   "source": [
    "# Extras\n",
    "\n",
    "# Create a dataframe that limits (less than, equal to, greater than, etc.) your data by a specific value in a specific column:\n",
    "#your_data_limited_by_metric = output_of_relevant_df_maker[(output_of_relevant_df_maker['LIMITING_METRIC_COLUMN_NAME'] > int_here)].index\n",
    "\n",
    "\n",
    "\n",
    "# Using Astropy to map the right ascension and declination of exoplanet systems:\n",
    "'''\n",
    "stars = ascii.read('data/PSCompPars_2021.07.12_12.50.05.csv')\n",
    "\n",
    "ra = coord.Angle(stars['ra']*u.degree)\n",
    "ra = ra.wrap_at(180*u.degree)\n",
    "dec = coord.Angle(stars['dec']*u.degree)\n",
    "\n",
    "fig = plt.gcf()\n",
    "fig.set_size_inches(30,12)\n",
    "\n",
    "ax = fig.add_subplot(111, projection=\"mollweide\")\n",
    "ax.scatter(ra.radian, dec.radian, s=5, color='brown')\n",
    "ax.set_xlabel(xlabel='Right Ascension (Degrees)', fontsize = 20)\n",
    "ax.set_ylabel(ylabel='Declination (Degrees)',fontsize = 20)\n",
    "ax.set_title(label='Exoplanets As Seen From Earth', fontsize=26)\n",
    "ax.grid(False)\n",
    "\n",
    "plt.savefig('YOUR_PATH_HERE.png')\n",
    "'''\n",
    "\n",
    "\n",
    "\n",
    "# Count the number of occurrences of each value in a column:\n",
    "#df['column_name'].value_counts()\n",
    "\n",
    "\n",
    "\n",
    "# Create a dataframe focused on counting the top n occurrences of an event by the name of the place that event happened\n",
    "'''\n",
    "n = integer\n",
    "prolific_n_counts = your_data['NAME_COLUMN'].value_counts()[:n].tolist()\n",
    "prolific_n_names = your_data['NAME_COLUMN'].value_counts()[:n].index.tolist()\n",
    "\n",
    "prolific_dict = dict(zip(prolific_n_names,prolific_n_counts))\n",
    "\n",
    "prolific_df = pd.DataFrame(prolific_dict.items(), columns=['NAME', 'COUNT'])\n",
    "'''\n",
    "\n",
    "print('Thanks for starting here! Live long and prosper :)')"
   ]
  },
  {
   "cell_type": "code",
   "execution_count": null,
   "metadata": {},
   "outputs": [],
   "source": []
  }
 ],
 "metadata": {
  "kernelspec": {
   "display_name": "Python 3",
   "language": "python",
   "name": "python3"
  },
  "language_info": {
   "codemirror_mode": {
    "name": "ipython",
    "version": 3
   },
   "file_extension": ".py",
   "mimetype": "text/x-python",
   "name": "python",
   "nbconvert_exporter": "python",
   "pygments_lexer": "ipython3",
   "version": "3.8.5"
  }
 },
 "nbformat": 4,
 "nbformat_minor": 4
}
